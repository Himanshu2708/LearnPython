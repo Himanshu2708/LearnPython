{
 "cells": [
  {
   "cell_type": "code",
   "execution_count": 1,
   "id": "9b962dec",
   "metadata": {},
   "outputs": [
    {
     "name": "stdout",
     "output_type": "stream",
     "text": [
      "Original dictionary: {'name': 'Alice', 'age': 30, 'city': 'New York'}\n",
      "Modified dictionary: {'name': 'Alice', 'age': 31, 'gender': 'Female'}\n"
     ]
    }
   ],
   "source": [
    "# create a dictionary\n",
    "person = {'name': 'Alice', 'age': 30, 'city': 'New York'}\n",
    "\n",
    "# print the original dictionary\n",
    "print(\"Original dictionary:\", person)\n",
    "\n",
    "# modify the 'age' key\n",
    "person['age'] = 31\n",
    "\n",
    "# add a new key-value pair\n",
    "person['gender'] = 'Female'\n",
    "\n",
    "# remove the 'city' key\n",
    "del person['city']\n",
    "\n",
    "# print the modified dictionary\n",
    "print(\"Modified dictionary:\", person)"
   ]
  },
  {
   "cell_type": "markdown",
   "id": "df669024",
   "metadata": {},
   "source": [
    "# EXERCISE\n",
    "You are given a dictionary students where the keys are the names of the students and the values are their corresponding marks in a subject. Write a Python function to modify the dictionary as follows:\n",
    "\n",
    "If a student's mark is less than 40, add 'Fail' as their value\n",
    "If a student's mark is greater than or equal to 40 and less than 60, add 'Pass' as their value\n",
    "If a student's mark is greater than or equal to 60 and less than 75, add 'Credit' as their value\n",
    "If a student's mark is greater than or equal to 75 and less than 90, add 'Distinction' as their value\n",
    "If a student's mark is greater than or equal to 90, add 'High Distinction' as their value\n",
    "\n"
   ]
  },
  {
   "cell_type": "code",
   "execution_count": null,
   "id": "18fde38e",
   "metadata": {},
   "outputs": [],
   "source": []
  }
 ],
 "metadata": {
  "kernelspec": {
   "display_name": "Python 3 (ipykernel)",
   "language": "python",
   "name": "python3"
  },
  "language_info": {
   "codemirror_mode": {
    "name": "ipython",
    "version": 3
   },
   "file_extension": ".py",
   "mimetype": "text/x-python",
   "name": "python",
   "nbconvert_exporter": "python",
   "pygments_lexer": "ipython3",
   "version": "3.11.2"
  }
 },
 "nbformat": 4,
 "nbformat_minor": 5
}
